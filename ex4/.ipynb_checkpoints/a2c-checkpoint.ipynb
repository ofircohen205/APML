{
 "cells": [
  {
   "cell_type": "code",
   "execution_count": 1,
   "metadata": {},
   "outputs": [],
   "source": [
    "import torch\n",
    "import torch.nn.functional as F\n",
    "import torch.optim as optim\n",
    "import torch.nn as nn\n",
    "import torch\n",
    "import random\n",
    "import gym\n",
    "import numpy as np\n",
    "from torch.utils.tensorboard import SummaryWriter\n",
    "from torch.distributions import Categorical\n",
    "from tqdm import trange\n",
    "\n",
    "from base_policy import BasePolicy\n",
    "from snake import THE_DEATH_PENALTY\n",
    "from train_snake import *\n",
    "\n",
    "\n",
    "class ActorCriticModel(nn.Module):\n",
    "    def __init__(self, h=9, w=9, inputs=10, outputs=3):\n",
    "        \"\"\"\n",
    "        :param h:\n",
    "        :param w:\n",
    "        :param outputs: number of actions (3)\n",
    "        \"\"\"\n",
    "        super(ActorCriticModel, self).__init__()\n",
    "        self.conv1 = nn.Conv2d(inputs, 16, kernel_size=3, stride=1)\n",
    "        self.bn1 = nn.BatchNorm2d(16)\n",
    "        self.conv2 = nn.Conv2d(16, 32, kernel_size=3, stride=1)\n",
    "        self.bn2 = nn.BatchNorm2d(32)\n",
    "        self.conv3 = nn.Conv2d(32, 32, kernel_size=3, stride=1)\n",
    "        self.bn3 = nn.BatchNorm2d(32)\n",
    "\n",
    "        def conv2d_size_out(size, kernel_size=3, stride=1):\n",
    "            return (size - (kernel_size - 1) - 1) // stride + 1\n",
    "\n",
    "        convw = conv2d_size_out(conv2d_size_out(conv2d_size_out(w)))\n",
    "        convh = conv2d_size_out(conv2d_size_out(conv2d_size_out(h)))\n",
    "#         convw = conv2d_size_out(conv2d_size_out(w))\n",
    "#         convh = conv2d_size_out(conv2d_size_out(h))\n",
    "        linear_input_size = convw * convh * 32\n",
    "#         self.fc1_critic = nn.Linear(linear_input_size, 64)\n",
    "#         self.fc2_critic = nn.Linear(64, 32)\n",
    "#         self.critic_head = nn.Linear(32, outputs)\n",
    "        \n",
    "#         self.fc1_actor = nn.Linear(linear_input_size, 64)\n",
    "#         self.fc2_actor = nn.Linear(64, 32)\n",
    "#         self.actor_head = nn.Linear(32, outputs)\n",
    "        self.critic_head = nn.Linear(linear_input_size, outputs)\n",
    "        self.actor_head = nn.Linear(linear_input_size, outputs)\n",
    "\n",
    "    def forward(self, x):\n",
    "        x = x.permute(0, 3, 1, 2)  # nhwc -> nchw\n",
    "        x = F.relu(self.bn1(self.conv1(x)))\n",
    "        x = F.relu(self.bn2(self.conv2(x)))\n",
    "        x = F.relu(self.bn3(self.conv3(x)))\n",
    "        x = x.view(x.size(0), -1)\n",
    "        \n",
    "#         fc1_actor = F.relu(self.fc1_actor(x))\n",
    "#         fc2_actor = F.relu(self.fc2_actor(fc1_actor))\n",
    "#         fc1_critic = F.relu(self.fc1_critic(x))\n",
    "#         fc2_critic = self.fc2_critic(fc1_critic)\n",
    "#         value = self.critic_head(fc2_critic)\n",
    "#         policy_dist = F.softmax(self.actor_head(fc2_actor), dim=-1)\n",
    "\n",
    "        value = self.critic_head(x)\n",
    "        policy_dist = F.softmax(self.actor_head(x), dim=-1)\n",
    "        return value, policy_dist"
   ]
  },
  {
   "cell_type": "code",
   "execution_count": 2,
   "metadata": {},
   "outputs": [],
   "source": [
    "class ActorCriticPolicy(BasePolicy):\n",
    "    def __init__(self, gamma, max_norm, model, action_space: gym.Space, summery_writer: SummaryWriter, lr):\n",
    "        super(ActorCriticPolicy, self).__init__(0, gamma, model, action_space, summery_writer, lr)\n",
    "        self.optimizer = optim.Adam(self.model.parameters(), lr=lr)\n",
    "#         self.optimizer = optim.RMSprop(self.model.parameters(), lr=lr)\n",
    "        if max_norm > 0:\n",
    "            torch.nn.utils.clip_grad_norm_(self.model.parameters(), max_norm)\n",
    "        # memmory buffer\n",
    "        self.values = []\n",
    "        self.log_probs = []\n",
    "        self.rewards = []\n",
    "        self.entropy_term = torch.FloatTensor([0])\n",
    "\n",
    "    def select_action(self, state, epsilon=None, global_step=None, alpha=None):\n",
    "        value, policy_dist = self.model(state)\n",
    "        return value, policy_dist\n",
    "\n",
    "    def optimize(self, global_step, alpha=None):\n",
    "        # compute Q values\n",
    "        Qval = self.values.pop()\n",
    "        Qvals = torch.zeros(len(self.values))\n",
    "#         normalized_rewards = np.asarray(self.rewards)\n",
    "#         normalized_rewards = (normalized_rewards - normalized_rewards.mean()) / (normalized_rewards.std() + 1e-8)\n",
    "        for t in range(len(self.rewards)-1, 0, -1):\n",
    "            Qval = self.rewards[t] + self.gamma * Qval\n",
    "#             Qval = normalized_rewards[t] + self.gamma * Qval\n",
    "            Qvals[t] = Qval[0]\n",
    "\n",
    "        # update actor critic\n",
    "        values = torch.cat(self.values)\n",
    "        log_probs = torch.stack(self.log_probs)\n",
    "\n",
    "        advantage = Qvals - values\n",
    "        actor_loss = (log_probs * advantage).mean()\n",
    "        critic_loss = (0.5 * advantage.pow(2)).mean()\n",
    "        # critic_loss = F.mse_loss(target=Qvals, input=values)\n",
    "        # entropy = torch.cat(policy.entropy_term).mean()\n",
    "        loss = critic_loss - (actor_loss + alpha * (self.entropy_term / len(self.rewards)))\n",
    "\n",
    "        self.optimizer.zero_grad()\n",
    "        loss.backward()\n",
    "        self.optimizer.step()\n",
    "        \n",
    "        return loss.item()\n",
    "\n",
    "    def clear_buffer(self):\n",
    "        self.values = []\n",
    "        self.log_probs = []\n",
    "        self.rewards = []\n",
    "        self.entropy_term = torch.FloatTensor([0])"
   ]
  },
  {
   "cell_type": "code",
   "execution_count": 3,
   "metadata": {},
   "outputs": [],
   "source": [
    "def train_policy(steps, lr, max_alpha, max_norm, gamma, max_episodes, log_dir):\n",
    "    game = SnakeWrapper()\n",
    "    writer = SummaryWriter(log_dir=log_dir)\n",
    "    a2c_model = ActorCriticModel(outputs=game.action_space.n)\n",
    "    policy = ActorCriticPolicy(gamma, max_norm, a2c_model, game.action_space, writer, lr)\n",
    "\n",
    "\n",
    "    prog_bar = trange(max_episodes, desc='', leave=True)\n",
    "    for episode in prog_bar:\n",
    "        state = game.reset()\n",
    "        alpha = max_alpha * math.exp(-1. * episode / (max_episodes / 2))\n",
    "        writer.add_scalar('training/alpha', alpha, episode)\n",
    "\n",
    "        for step in range(steps):\n",
    "            value, policy_dist = policy.select_action(torch.FloatTensor(state))\n",
    "            dist = Categorical(probs=policy_dist)\n",
    "            action = dist.sample()\n",
    "            log_prob = dist.log_prob(value=action)\n",
    "            new_state, reward = game.step(action.item())\n",
    "\n",
    "            policy.log_probs.append(log_prob)\n",
    "            policy.rewards.append(reward)\n",
    "            policy.values.append(value[0, action])\n",
    "            entropy = dist.entropy()\n",
    "#             print(entropy.item())\n",
    "#             policy.entropy_term.append(entropy)\n",
    "            policy.entropy_term += entropy\n",
    "            state = new_state\n",
    "\n",
    "            if reward == THE_DEATH_PENALTY:\n",
    "                break\n",
    "            \n",
    "            state = new_state\n",
    "                \n",
    "        # get the value of the last step\n",
    "        value, _ = policy.model(torch.FloatTensor(state))\n",
    "        policy.values.append(value[0, action])\n",
    "#         print(policy.entropy_term / len(policy.rewards))\n",
    "#         if len(policy.entropy_term) == 0:\n",
    "#             continue\n",
    "        loss = policy.optimize(global_step=episode, alpha=alpha)\n",
    "        writer.add_scalar('training/episode_length', step, episode)\n",
    "        writer.add_scalar('training/episode_rewards', sum(policy.rewards), episode)\n",
    "        writer.add_scalar('training/loss', loss, episode)\n",
    "        prog_bar.set_description(f\"episode: {episode}, loss: {loss:.3f} \"\n",
    "                                 f\"total reward: {np.sum(policy.rewards)}, steps: {step}\")\n",
    "        policy.clear_buffer()\n",
    "\n",
    "#     torch.save({'model_state_dict': policy.model.state_dict()}, f'vanilla_reinforce.pkl')\n",
    "    writer.close()\n",
    "    return policy"
   ]
  },
  {
   "cell_type": "code",
   "execution_count": 4,
   "metadata": {},
   "outputs": [],
   "source": [
    "%matplotlib inline\n",
    "import matplotlib.pyplot as plt\n",
    "\n",
    "def test_policy(policy, iterations, render):\n",
    "    game = SnakeWrapper()\n",
    "    action_space = SnakeWrapper.action_space\n",
    "    state = game.reset()\n",
    "    if render:\n",
    "        game.render()\n",
    "            \n",
    "    total_rewards = []\n",
    "    steps_survived = []\n",
    "    \n",
    "    total = 0\n",
    "    last = 0\n",
    "    for i in range(iterations):\n",
    "        state_tensor = torch.FloatTensor(state)\n",
    "        _, policy_dist = policy.select_action(state_tensor)\n",
    "        action = Categorical(probs=policy_dist).sample().item()\n",
    "        state, reward = game.step(action)\n",
    "        if reward < 0:\n",
    "            steps_survived.append(i - last)\n",
    "            total_rewards.append(total)\n",
    "            total = 0\n",
    "            last = i\n",
    "        else:\n",
    "            total += reward\n",
    "        if render:\n",
    "            game.render()\n",
    "\n",
    "#     print(\"total rewards:\", total_rewards)\n",
    "    # plot reward histogram\n",
    "    plt.figure()\n",
    "    plt.title(\"reward histogram\")\n",
    "    plt.hist(x=total_rewards, bins=100)\n",
    "    plt.xlabel(\"reward\")\n",
    "    plt.ylabel(\"count\")\n",
    "    plt.show()\n",
    "\n",
    "    # plot steps histogram\n",
    "    plt.figure()\n",
    "    plt.title(\"steps histogram\")\n",
    "    plt.hist(x=steps_survived, bins=100)\n",
    "    plt.xlabel(\"# of steps\")\n",
    "    plt.ylabel(\"count\")\n",
    "    plt.show()\n",
    "\n",
    "    # plot 2d histogram\n",
    "    plt.figure()\n",
    "    plt.title(\"step vs rewards histogram\")\n",
    "    plt.hist2d(x=steps_survived, y=total_rewards, bins=100)\n",
    "    plt.xlabel(\"# of steps\")\n",
    "    plt.ylabel(\"reward\")\n",
    "    plt.show()"
   ]
  },
  {
   "cell_type": "code",
   "execution_count": 49,
   "metadata": {},
   "outputs": [
    {
     "name": "stderr",
     "output_type": "stream",
     "text": [
      "episode: 999, loss: -0.443 total reward: -5, steps: 6: 100%|██████████| 1000/1000 [05:06<00:00,  3.26it/s] \n"
     ]
    }
   ],
   "source": [
    "policy = train_policy(steps=400, lr=0.01, max_alpha=0.3, max_norm=2,\n",
    "                      gamma=0.2, max_episodes=1000,\n",
    "                      log_dir=r\"./logs/a2c/\")"
   ]
  },
  {
   "cell_type": "code",
   "execution_count": 48,
   "metadata": {},
   "outputs": [
    {
     "data": {
      "image/png": "[encoded data removed]",
      "text/plain": [
       "<Figure size 432x288 with 1 Axes>"
      ]
     },
     "metadata": {
      "needs_background": "light"
     },
     "output_type": "display_data"
    },
    {
     "data": {
      "image/png": "[encoded data removed]",
      "text/plain": [
       "<Figure size 432x288 with 1 Axes>"
      ]
     },
     "metadata": {
      "needs_background": "light"
     },
     "output_type": "display_data"
    },
    {
     "data": {
      "image/png": "[encoded data removed]",
      "text/plain": [
       "<Figure size 432x288 with 1 Axes>"
      ]
     },
     "metadata": {
      "needs_background": "light"
     },
     "output_type": "display_data"
    }
   ],
   "source": [
    "policy.eval()\n",
    "test_policy(policy, iterations=10000, render=False)"
   ]
  }
 ],
 "metadata": {
  "kernelspec": {
   "display_name": "Python 3",
   "language": "python",
   "name": "python3"
  },
  "language_info": {
   "codemirror_mode": {
    "name": "ipython",
    "version": 3
   },
   "file_extension": ".py",
   "mimetype": "text/x-python",
   "name": "python",
   "nbconvert_exporter": "python",
   "pygments_lexer": "ipython3",
   "version": "3.8.6"
  }
 },
 "nbformat": 4,
 "nbformat_minor": 4
}
